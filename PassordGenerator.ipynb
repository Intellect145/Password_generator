{
 "cells": [
  {
   "cell_type": "code",
   "execution_count": 1,
   "metadata": {},
   "outputs": [
    {
     "name": "stdout",
     "output_type": "stream",
     "text": [
      "Welcome to the PyPassword Generator!\n",
      "['n', 'w', 'Q', 'A', 'P', '4', '4', '4', '2', '6', '!', '*', '+', '*', '+']\n",
      "['*', '+', '4', '6', 'Q', '4', '!', 'w', 'P', 'A', '*', '+', '4', '2', 'n']\n",
      "your password is*+46Q4!wPA*+42n\n"
     ]
    }
   ],
   "source": [
    "import random\n",
    "letters = ['a', 'b', 'c', 'd', 'e', 'f', 'g', 'h', 'i', 'j', 'k', 'l', 'm', 'n', 'o', 'p', 'q', 'r', 's', 't', 'u', 'v', 'w', 'x', 'y', 'z', 'A', 'B', 'C', 'D', 'E', 'F', 'G', 'H', 'I', 'J', 'K', 'L', 'M', 'N', 'O', 'P', 'Q', 'R', 'S', 'T', 'U', 'V', 'W', 'X', 'Y', 'Z']\n",
    "numbers = ['0', '1', '2', '3', '4', '5', '6', '7', '8', '9']\n",
    "symbols = ['!', '#', '$', '%', '&', '(', ')', '*', '+']\n",
    "\n",
    "print(\"Welcome to the PyPassword Generator!\")\n",
    "nr_letters= int(input(\"How many letters would you like in your password?\\n\")) \n",
    "nr_symbols = int(input(f\"How many symbols would you like?\\n\"))\n",
    "nr_numbers = int(input(f\"How many numbers would you like?\\n\"))\n",
    "\n",
    "password=[]\n",
    "for char in range(0,nr_letters):\n",
    "  password.append(random.choice(letters))\n",
    "\n",
    "for char in range(0,nr_letters):\n",
    "  password+=random.choice(numbers)\n",
    "\n",
    "for char in range(0,nr_letters):\n",
    "  password+=random.choice(symbols)\n",
    "\n",
    "\n",
    "print(password)\n",
    "random.shuffle(password)\n",
    "\n",
    "print(password)\n",
    "\n",
    "op=\"\"\n",
    "for char in password:\n",
    "    op+=char\n",
    "    \n",
    "print(f\"your password is{op}\")"
   ]
  }
 ],
 "metadata": {
  "kernelspec": {
   "display_name": "Python 3",
   "language": "python",
   "name": "python3"
  },
  "language_info": {
   "codemirror_mode": {
    "name": "ipython",
    "version": 3
   },
   "file_extension": ".py",
   "mimetype": "text/x-python",
   "name": "python",
   "nbconvert_exporter": "python",
   "pygments_lexer": "ipython3",
   "version": "3.12.2"
  }
 },
 "nbformat": 4,
 "nbformat_minor": 2
}
